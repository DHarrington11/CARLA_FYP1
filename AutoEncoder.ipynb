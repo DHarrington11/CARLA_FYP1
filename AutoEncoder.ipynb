{
 "cells": [
  {
   "cell_type": "code",
   "execution_count": 2,
   "metadata": {},
   "outputs": [],
   "source": [
    "import torch.nn as nn\n",
    "import torch.optim as optim\n",
    "import torch\n",
    "import numpy as np\n",
    "import matplotlib.pyplot as plt\n",
    "import os\n"
   ]
  },
  {
   "cell_type": "code",
   "execution_count": 3,
   "metadata": {},
   "outputs": [],
   "source": [
    "from torchvision import transforms"
   ]
  },
  {
   "cell_type": "code",
   "execution_count": 4,
   "metadata": {},
   "outputs": [],
   "source": [
    "from torchvision import datasets"
   ]
  },
  {
   "cell_type": "code",
   "execution_count": 5,
   "metadata": {},
   "outputs": [],
   "source": [
    "import torch.utils.data"
   ]
  },
  {
   "cell_type": "code",
   "execution_count": 6,
   "metadata": {},
   "outputs": [],
   "source": [
    "def array_Tensor(arr):\n",
    "    tensor_transfrom = transforms.ToTensor()\n",
    "    t1 = tensor_transfrom(arr)\n",
    "    return t1 \n"
   ]
  },
  {
   "cell_type": "code",
   "execution_count": 7,
   "metadata": {},
   "outputs": [],
   "source": [
    "def get_weights(arr):\n",
    "    t = arr\n",
    "    tag_percentage = [] \n",
    "    pixels = [] \n",
    "    for i in range(13): \n",
    "        im = np.zeros((128,128))\n",
    "        im[np.where(t==i)[0], np.where(t==i)[1]]=1\n",
    "        total = im.sum()\n",
    "        total_percentage = (total/16384)*100\n",
    "        tag_percentage.append(total_percentage)\n",
    "        pixels.append(total)\n",
    "    \n",
    "    norm =[]\n",
    "    for x in pixels:\n",
    "        normalized = (x-min(pixels))/(max(pixels)-min(pixels))\n",
    "        norm.append(normalized)\n",
    "    \n",
    "    inv_norm = []\n",
    "    for n in norm:\n",
    "        inv = 1- n\n",
    "        inv_norm.append(inv)\n",
    "\n",
    "    inv_norm = inv_norm/sum(inv_norm)\n",
    "\n",
    "    return inv_norm\n",
    "   \n"
   ]
  },
  {
   "cell_type": "code",
   "execution_count": 8,
   "metadata": {},
   "outputs": [],
   "source": [
    "def get_weights2(data):\n",
    "    inv_norms=[]\n",
    "    for i in range(3000):\n",
    "        t = np.load(\"/home/dh26/Documents/Carla/gym-carla/Unet_images/Sunny/Semantic_array/\"+dataset[i])\n",
    "        tag_percentage = [] \n",
    "        pixels = [] \n",
    "        for i in range(13): \n",
    "            im = np.zeros((128,128))\n",
    "            im[np.where(t==i)[0], np.where(t==i)[1]]=1\n",
    "            total = im.sum()\n",
    "            total_percentage = (total/16384)*100\n",
    "            tag_percentage.append(total_percentage)\n",
    "            pixels.append(total)\n",
    "        \n",
    "        norm =[]\n",
    "        for x in pixels:\n",
    "            normalized = (x-min(pixels))/(max(pixels)-min(pixels))\n",
    "            norm.append(normalized)\n",
    "        \n",
    "        inv_norm = []\n",
    "        for n in norm:\n",
    "            inv = 1- n\n",
    "            inv_norm.append(inv)\n",
    "\n",
    "        inv_norm = inv_norm/sum(inv_norm)\n",
    "        \n",
    "        inv_norms.append(inv_norm)\n",
    "    \n",
    "\n",
    "    return inv_norms"
   ]
  },
  {
   "cell_type": "code",
   "execution_count": 9,
   "metadata": {},
   "outputs": [],
   "source": [
    "dataset = [names for names in list(os.listdir(\"/home/dh26/Documents/Carla/gym-carla/Unet_images/Sunny/Semantic_array\"))]\n",
    "a = np.load(\"/home/dh26/Documents/Carla/gym-carla/Unet_images/Sunny/Semantic_array/\"+dataset[0])\n",
    "weights = get_weights(a)\n",
    "tensor_transfrom = transforms.ToTensor()\n",
    "weights = torch.Tensor(weights)"
   ]
  },
  {
   "cell_type": "code",
   "execution_count": 10,
   "metadata": {},
   "outputs": [
    {
     "data": {
      "text/plain": [
       "tensor([0.0854, 0.0745, 0.0843, 0.0820, 0.0854, 0.0840, 0.0833, 0.0000, 0.0833,\n",
       "        0.0834, 0.0835, 0.0853, 0.0854])"
      ]
     },
     "execution_count": 10,
     "metadata": {},
     "output_type": "execute_result"
    }
   ],
   "source": [
    "weights"
   ]
  },
  {
   "cell_type": "code",
   "execution_count": 11,
   "metadata": {},
   "outputs": [],
   "source": [
    "b = get_weights2(dataset)"
   ]
  },
  {
   "cell_type": "code",
   "execution_count": 12,
   "metadata": {},
   "outputs": [
    {
     "data": {
      "text/plain": [
       "3000"
      ]
     },
     "execution_count": 12,
     "metadata": {},
     "output_type": "execute_result"
    }
   ],
   "source": [
    "len(b)"
   ]
  },
  {
   "cell_type": "code",
   "execution_count": 13,
   "metadata": {},
   "outputs": [],
   "source": [
    "avg_list= []\n",
    "for i in range(13):\n",
    "    class_list = []\n",
    "    for j in range(len(b)-1):\n",
    "        x = b[j][i]\n",
    "        class_list.append(x)\n",
    "    avg = sum(class_list)/len(class_list)\n",
    "    avg_list.append(avg)"
   ]
  },
  {
   "cell_type": "code",
   "execution_count": 14,
   "metadata": {},
   "outputs": [
    {
     "data": {
      "text/plain": [
       "tensor([0.0859, 0.0773, 0.0857, 0.0803, 0.0859, 0.0846, 0.0821, 0.0005, 0.0824,\n",
       "        0.0842, 0.0836, 0.0817, 0.0859])"
      ]
     },
     "execution_count": 14,
     "metadata": {},
     "output_type": "execute_result"
    }
   ],
   "source": [
    "avg_weights = avg_list\n",
    "avg_weights = torch.Tensor(avg_weights)\n",
    "avg_weights"
   ]
  },
  {
   "cell_type": "code",
   "execution_count": 15,
   "metadata": {},
   "outputs": [],
   "source": [
    "# class encoder(torch.nn.Module):\n",
    "#     def __init__(self, learning_rate):\n",
    "#         super(encoder, self).__init__()\n",
    "#         self.model = nn.Sequential(\n",
    "#             nn.Conv2d(1,32,kernel_size=4, stride=2, padding=1),\n",
    "#             nn.LeakyReLU(negative_slope=0.02), ##Leaky ReLU\n",
    "#             nn.Conv2d(32,64, kernel_size=4,stride=2, padding=1),\n",
    "#             nn.BatchNorm2d(64),\n",
    "#             nn.LeakyReLU(negative_slope=0.02),\n",
    "#             nn.Conv2d(64,128,kernel_size=4, stride=2, padding=1),\n",
    "#             nn.BatchNorm2d(128),\n",
    "#             nn.LeakyReLU(negative_slope=0.02),\n",
    "#             nn.Conv2d(128,256,kernel_size=4, stride=2, padding=1),\n",
    "#             nn.BatchNorm2d(256),\n",
    "#             nn.LeakyReLU(negative_slope=0.02),\n",
    "#             nn.Conv2d(256,512,kernel_size=4, stride=2, padding=1),\n",
    "#             nn.BatchNorm2d(512),\n",
    "#             nn.LeakyReLU(negative_slope=0.02),\n",
    "#             nn.Conv2d(512,64,kernel_size=4, stride=1, padding=0)\n",
    "#         )\n",
    "        \n",
    "#         self.loss = nn.CrossEntropyLoss()\n",
    "#         self.learning_rate = learning_rate\n",
    "#         self.optimiser = optim.Adam(self.parameters(), self.learning_rate)\n",
    "#         self.device = torch.device(\"cuda:0\" if torch.cuda.is_available() else \"cpu\")\n",
    "#         self.to(self.device)\n",
    "  \n",
    "#     def forward(self, x):\n",
    "#       x = x.to(self.device)\n",
    "#       return self.model(x)\n"
   ]
  },
  {
   "cell_type": "code",
   "execution_count": 16,
   "metadata": {},
   "outputs": [],
   "source": [
    "# class decoder(torch.nn.Module):\n",
    "#     def __init__(self, w, learning_rate):\n",
    "#         super(decoder, self).__init__()\n",
    "#         self.model = nn.Sequential(\n",
    "#             nn.ConvTranspose2d(64,512,4, stride=1, padding=0),\n",
    "#             nn.BatchNorm2d(512),\n",
    "#             nn.LeakyReLU(negative_slope=0.02),\n",
    "#             nn.ConvTranspose2d(512,256,4, stride=2, padding=1),\n",
    "#             nn.BatchNorm2d(256),\n",
    "#             nn.LeakyReLU(negative_slope=0.02),\n",
    "#             nn.ConvTranspose2d(256,128,4, stride=2, padding=1),\n",
    "#             nn.BatchNorm2d(128),\n",
    "#             nn.LeakyReLU(negative_slope=0.02),\n",
    "#             nn.ConvTranspose2d(128,64,4, stride=2, padding=1),\n",
    "#             nn.BatchNorm2d(64),\n",
    "#             nn.LeakyReLU(negative_slope=0.02),\n",
    "#             nn.ConvTranspose2d(64,32,4, stride=2, padding=1),\n",
    "#             nn.BatchNorm2d(32),\n",
    "#             nn.LeakyReLU(negative_slope=0.02),\n",
    "#             nn.ConvTranspose2d(32,13,4, stride=2, padding=1),\n",
    "#             nn.Sigmoid()\n",
    "#         )\n",
    "\n",
    "#         self.loss = nn.CrossEntropyLoss(weight= w)\n",
    "#         self.learning_rate = learning_rate\n",
    "#         self.optimiser = optim.Adam(self.parameters(), self.learning_rate)\n",
    "#         self.device = torch.device(\"cuda:0\" if torch.cuda.is_available() else \"cpu\")\n",
    "#         self.to(self.device)\n",
    "           \n",
    "#     def forward(self, x):\n",
    "#         x = x.to(self.device)\n",
    "#         return self.model(x)"
   ]
  },
  {
   "cell_type": "code",
   "execution_count": 17,
   "metadata": {},
   "outputs": [],
   "source": [
    "class autoencoder(nn.Module):\n",
    "    def __init__(self):\n",
    "        super(autoencoder,self).__init__()\n",
    "        self.encoder = nn.Sequential(\n",
    "            nn.Conv2d(1,32,kernel_size=4, stride=2, padding=1),\n",
    "            nn.LeakyReLU(negative_slope=0.02), ##Leaky ReLU\n",
    "            nn.Conv2d(32,64, kernel_size=4,stride=2, padding=1),\n",
    "            nn.BatchNorm2d(64),\n",
    "            nn.LeakyReLU(negative_slope=0.02),\n",
    "            nn.Conv2d(64,128,kernel_size=4, stride=2, padding=1),\n",
    "            nn.BatchNorm2d(128),\n",
    "            nn.LeakyReLU(negative_slope=0.02),\n",
    "            nn.Conv2d(128,256,kernel_size=4, stride=2, padding=1),\n",
    "            nn.BatchNorm2d(256),\n",
    "            nn.LeakyReLU(negative_slope=0.02),\n",
    "            nn.Conv2d(256,512,kernel_size=4, stride=2, padding=1),\n",
    "            nn.BatchNorm2d(512),\n",
    "            nn.LeakyReLU(negative_slope=0.02),\n",
    "            nn.Conv2d(512,64,kernel_size=4, stride=1, padding=0)\n",
    "        )\n",
    "\n",
    "        self.decoder = nn.Sequential(\n",
    "            nn.ConvTranspose2d(64,512,4, stride=1, padding=0),\n",
    "            nn.BatchNorm2d(512),\n",
    "            nn.LeakyReLU(negative_slope=0.02),\n",
    "            nn.ConvTranspose2d(512,256,4, stride=2, padding=1),\n",
    "            nn.BatchNorm2d(256),\n",
    "            nn.LeakyReLU(negative_slope=0.02),\n",
    "            nn.ConvTranspose2d(256,128,4, stride=2, padding=1),\n",
    "            nn.BatchNorm2d(128),\n",
    "            nn.LeakyReLU(negative_slope=0.02),\n",
    "            nn.ConvTranspose2d(128,64,4, stride=2, padding=1),\n",
    "            nn.BatchNorm2d(64),\n",
    "            nn.LeakyReLU(negative_slope=0.02),\n",
    "            nn.ConvTranspose2d(64,32,4, stride=2, padding=1),\n",
    "            nn.BatchNorm2d(32),\n",
    "            nn.LeakyReLU(negative_slope=0.02),\n",
    "            nn.ConvTranspose2d(32,13,4, stride=2, padding=1),\n",
    "            nn.Sigmoid()\n",
    "        )\n",
    "\n",
    "        self.loss = nn.CrossEntropyLoss(weight= avg_weights)\n",
    "        self.learning_rate = 0.001\n",
    "        self.optimiser = optim.Adam(self.parameters(), self.learning_rate)\n",
    "        self.device = torch.device(\"cuda:0\" if torch.cuda.is_available() else \"cpu\")\n",
    "        #self.device='cpu'\n",
    "        self.to(self.device)\n",
    "\n",
    "    def forward(self, x):\n",
    "        x = x.to(self.device)\n",
    "        encoded = self.encoder(x)\n",
    "        decoded = self.decoder(encoded)\n",
    "        return decoded, encoded\n",
    "\n",
    "\n",
    "\n"
   ]
  },
  {
   "cell_type": "code",
   "execution_count": 18,
   "metadata": {},
   "outputs": [],
   "source": [
    "dict = {\n",
    "    0:[0,0,0],\n",
    "    1:[70,70,70], \n",
    "    2:[100,40,40],\n",
    "    3:[55,90,80],\n",
    "    4:[220,20,60],\n",
    "    5:[153,153,153],\n",
    "    6:[157,234,50],\n",
    "    7:[128,64,128],\n",
    "    8:[244,35,232],\n",
    "    9:[107,142,35],\n",
    "    10:[0,0,142], \n",
    "    11:[102,102,156], \n",
    "    12:[220,220,0]\n",
    "    }\n",
    "def pred_Image(pred): \n",
    "    im=np.zeros((128,128,3))\n",
    "    for i in range(128):\n",
    "        for j in range(128):\n",
    "            c = pred[i][j]\n",
    "            im[i][j] = dict.get(c)\n",
    "    im.reshape(128,128,3)\n",
    "    return im \n",
    "\n",
    "    "
   ]
  },
  {
   "cell_type": "code",
   "execution_count": 19,
   "metadata": {},
   "outputs": [],
   "source": [
    "import torch\n",
    "from torch.utils.data import Dataset\n",
    "from torchvision import datasets\n",
    "from torchvision.transforms import ToTensor\n",
    "import matplotlib.pyplot as plt"
   ]
  },
  {
   "cell_type": "code",
   "execution_count": 20,
   "metadata": {},
   "outputs": [],
   "source": [
    "from torch.utils.data import DataLoader\n",
    "class MyDataset(Dataset):\n",
    "    def __init__(self):\n",
    "        self.data = [\"/home/dh26/Documents/Carla/gym-carla/Unet_images/Sunny/Semantic_array/\"+names for names in list(os.listdir(\"/home/dh26/Documents/Carla/gym-carla/Unet_images/Sunny/Semantic_array\")[:3488])]\n",
    "        \n",
    "    def __getitem__(self, index):\n",
    "        x = np.load(self.data[index])\n",
    "        return x\n",
    "    \n",
    "    def __len__(self):\n",
    "        return len(self.data)\n",
    "\n",
    "dataset = MyDataset()\n",
    "loader = DataLoader(\n",
    "    dataset,\n",
    "    batch_size=32,\n",
    "    shuffle=True\n",
    ")\n",
    "\n"
   ]
  },
  {
   "cell_type": "code",
   "execution_count": 21,
   "metadata": {},
   "outputs": [
    {
     "data": {
      "text/plain": [
       "109"
      ]
     },
     "execution_count": 21,
     "metadata": {},
     "output_type": "execute_result"
    }
   ],
   "source": [
    "loader.__len__()"
   ]
  },
  {
   "cell_type": "code",
   "execution_count": 22,
   "metadata": {},
   "outputs": [],
   "source": [
    "dataiter = iter(loader)"
   ]
  },
  {
   "cell_type": "code",
   "execution_count": 23,
   "metadata": {},
   "outputs": [
    {
     "name": "stdout",
     "output_type": "stream",
     "text": [
      "torch.Size([128, 128])\n"
     ]
    }
   ],
   "source": [
    "images= dataiter.next()\n",
    "print(images[0].shape)"
   ]
  },
  {
   "cell_type": "code",
   "execution_count": 24,
   "metadata": {},
   "outputs": [],
   "source": [
    "import torch\n",
    "torch.cuda.empty_cache()"
   ]
  },
  {
   "cell_type": "code",
   "execution_count": 25,
   "metadata": {},
   "outputs": [
    {
     "name": "stdout",
     "output_type": "stream",
     "text": [
      "Training Started.....\n",
      "Continuing...\n",
      "Epoch:0\n",
      "Continuing...\n",
      "Epoch:1\n",
      "Continuing...\n",
      "Epoch:2\n",
      "Continuing...\n",
      "Epoch:3\n",
      "Continuing...\n",
      "Epoch:4\n",
      "Continuing...\n",
      "Epoch:5\n",
      "Continuing...\n",
      "Epoch:6\n",
      "Continuing...\n",
      "Epoch:7\n",
      "Continuing...\n",
      "Epoch:8\n",
      "Continuing...\n",
      "Epoch:9\n",
      "Continuing...\n",
      "Epoch:10\n",
      "Continuing...\n",
      "Epoch:11\n",
      "Continuing...\n",
      "Epoch:12\n",
      "Continuing...\n",
      "Epoch:13\n",
      "Continuing...\n",
      "Epoch:14\n",
      "Continuing...\n",
      "Epoch:15\n",
      "Continuing...\n",
      "Epoch:16\n",
      "Continuing...\n",
      "Epoch:17\n",
      "Continuing...\n",
      "Epoch:18\n",
      "Continuing...\n",
      "Epoch:19\n",
      "Continuing...\n",
      "Epoch:20\n",
      "Continuing...\n",
      "Epoch:21\n",
      "Continuing...\n",
      "Epoch:22\n",
      "Continuing...\n",
      "Epoch:23\n",
      "Continuing...\n",
      "Epoch:24\n",
      "Continuing...\n",
      "Epoch:25\n",
      "Continuing...\n",
      "Epoch:26\n",
      "Continuing...\n",
      "Epoch:27\n",
      "Continuing...\n",
      "Epoch:28\n",
      "Continuing...\n",
      "Epoch:29\n",
      "Continuing...\n",
      "Epoch:30\n",
      "Continuing...\n",
      "Epoch:31\n",
      "Continuing...\n",
      "Epoch:32\n",
      "Continuing...\n",
      "Epoch:33\n",
      "Continuing...\n",
      "Epoch:34\n",
      "Continuing...\n",
      "Epoch:35\n",
      "Continuing...\n",
      "Epoch:36\n",
      "Continuing...\n",
      "Epoch:37\n",
      "Continuing...\n",
      "Epoch:38\n",
      "Continuing...\n",
      "Epoch:39\n",
      "Continuing...\n",
      "Epoch:40\n",
      "Continuing...\n",
      "Epoch:41\n",
      "Continuing...\n",
      "Epoch:42\n",
      "Continuing...\n",
      "Epoch:43\n",
      "Continuing...\n",
      "Epoch:44\n"
     ]
    },
    {
     "data": {
      "image/png": "[encoded data removed]",
      "text/plain": [
       "<Figure size 432x288 with 1 Axes>"
      ]
     },
     "metadata": {
      "needs_background": "light"
     },
     "output_type": "display_data"
    },
    {
     "name": "stdout",
     "output_type": "stream",
     "text": [
      "Finished Training\n"
     ]
    }
   ],
   "source": [
    "device = torch.device(\"cuda:0\" if torch.cuda.is_available() else \"cpu\")\n",
    "\n",
    "\n",
    "model = autoencoder()\n",
    "\n",
    "\n",
    "print('Training Started.....')\n",
    "\n",
    "batch_size=32\n",
    "\n",
    "dataset = MyDataset()\n",
    "loader = DataLoader(\n",
    "    dataset,\n",
    "    batch_size=batch_size,\n",
    "    shuffle=True\n",
    ")\n",
    "\n",
    "\n",
    "epochs = 45\n",
    "outputs = [] \n",
    "losses=[]\n",
    "avg_losses=[]\n",
    "for epoch in range(epochs):\n",
    "    print('Continuing...')\n",
    "    print(\"Epoch:{}\".format(epoch))\n",
    "    running_loss=0.0\n",
    "    for i, data in enumerate(loader, 0):\n",
    "\n",
    "        inputs = data\n",
    "\n",
    "        inputs = inputs.reshape(batch_size,1,128,128)\n",
    "        x = inputs.to(device).float()        \n",
    "\n",
    "        model.optimiser.zero_grad()\n",
    "\n",
    "        outputs,latent_space = model.forward(x)\n",
    "\n",
    "        x=x.reshape(batch_size,128,128)\n",
    "       \n",
    "\n",
    "        \n",
    "        loss=model.loss(outputs,x.long())\n",
    "        loss.backward()\n",
    "        model.optimiser.step()\n",
    "\n",
    "        running_loss += loss.item()\n",
    "        losses.append(loss)\n",
    "        avg_losses.append(sum(losses)/len(losses))\n",
    "        if i % 2000 == 1999:\n",
    "            print('f[{epoch + i}, {i + 1:5d}] loss: {running_loss / 2000:.3f}')\n",
    "            running_loss=0.0\n",
    "# plt.plot(losses, label = 'Training Loss')\n",
    "# plt.show()\n",
    "fig, ax = plt.subplots()\n",
    "ax.plot(losses, label='Loss', color='blue')\n",
    "ax.plot(avg_losses,color='red', lw=4, ls='--', label=\"average plot\")\n",
    "plt.legend(loc=0)\n",
    "plt.show()\n",
    "print('Finished Training')"
   ]
  },
  {
   "cell_type": "code",
   "execution_count": 24,
   "metadata": {},
   "outputs": [
    {
     "name": "stdout",
     "output_type": "stream",
     "text": [
      "Training Started.....\n",
      "Continuing...\n",
      "Epoch:0\n",
      "Continuing...\n",
      "Epoch:1\n",
      "Continuing...\n",
      "Epoch:2\n",
      "Continuing...\n",
      "Epoch:3\n",
      "Continuing...\n",
      "Epoch:4\n",
      "Continuing...\n",
      "Epoch:5\n",
      "Continuing...\n",
      "Epoch:6\n",
      "Continuing...\n",
      "Epoch:7\n",
      "Continuing...\n",
      "Epoch:8\n",
      "Continuing...\n",
      "Epoch:9\n",
      "Continuing...\n",
      "Epoch:10\n",
      "Continuing...\n",
      "Epoch:11\n",
      "Continuing...\n",
      "Epoch:12\n",
      "Continuing...\n",
      "Epoch:13\n",
      "Continuing...\n",
      "Epoch:14\n",
      "Continuing...\n",
      "Epoch:15\n",
      "Continuing...\n",
      "Epoch:16\n",
      "Continuing...\n",
      "Epoch:17\n",
      "Continuing...\n",
      "Epoch:18\n",
      "Continuing...\n",
      "Epoch:19\n",
      "Continuing...\n",
      "Epoch:20\n",
      "Continuing...\n",
      "Epoch:21\n",
      "Continuing...\n",
      "Epoch:22\n",
      "Continuing...\n",
      "Epoch:23\n",
      "Continuing...\n",
      "Epoch:24\n",
      "Continuing...\n",
      "Epoch:25\n",
      "Continuing...\n",
      "Epoch:26\n",
      "Continuing...\n",
      "Epoch:27\n",
      "Continuing...\n",
      "Epoch:28\n",
      "Continuing...\n",
      "Epoch:29\n"
     ]
    },
    {
     "data": {
      "image/png": "[encoded data removed]",
      "text/plain": [
       "<Figure size 432x288 with 1 Axes>"
      ]
     },
     "metadata": {
      "needs_background": "light"
     },
     "output_type": "display_data"
    },
    {
     "name": "stdout",
     "output_type": "stream",
     "text": [
      "Finished Training\n"
     ]
    }
   ],
   "source": [
    "# device = torch.device(\"cuda:0\" if torch.cuda.is_available() else \"cpu\")\n",
    "\n",
    "\n",
    "# model = autoencoder()\n",
    "\n",
    "\n",
    "# print('Training Started.....')\n",
    "\n",
    "# batch_size=64\n",
    "\n",
    "# dataset = MyDataset()\n",
    "# loader = DataLoader(\n",
    "#     dataset,\n",
    "#     batch_size=batch_size,\n",
    "#     shuffle=True\n",
    "# )\n",
    "\n",
    "\n",
    "# epochs = 30\n",
    "# outputs = [] \n",
    "# losses=[]\n",
    "# avg_losses=[]\n",
    "# for epoch in range(epochs):\n",
    "#     print('Continuing...')\n",
    "#     print(\"Epoch:{}\".format(epoch))\n",
    "#     running_loss=0.0\n",
    "#     for i, data in enumerate(loader, 0):\n",
    "\n",
    "#         inputs = data\n",
    "\n",
    "#         inputs = inputs.reshape(batch_size,1,128,128)\n",
    "#         x = inputs.to(device).float()        \n",
    "\n",
    "#         model.optimiser.zero_grad()\n",
    "\n",
    "#         outputs,latent_space = model.forward(x)\n",
    "\n",
    "#         x=x.reshape(batch_size,128,128)\n",
    "       \n",
    "\n",
    "        \n",
    "#         loss=model.loss(outputs,x.long())\n",
    "#         loss.backward()\n",
    "#         model.optimiser.step()\n",
    "\n",
    "#         running_loss += loss.item()\n",
    "#         losses.append(loss)\n",
    "#         avg_losses.append(sum(losses)/len(losses))\n",
    "#         if i % 2000 == 1999:\n",
    "#             print('f[{epoch + i}, {i + 1:5d}] loss: {running_loss / 2000:.3f}')\n",
    "#             running_loss=0.0\n",
    "# # plt.plot(losses, label = 'Training Loss')\n",
    "# # plt.show()\n",
    "# fig, ax = plt.subplots()\n",
    "# ax.plot(losses, label='Loss', color='blue')\n",
    "# ax.plot(avg_losses,color='red', lw=4, ls='--', label=\"average plot\")\n",
    "# plt.legend(loc=0)\n",
    "# plt.show()\n",
    "# print('Finished Training')\n",
    "\n"
   ]
  },
  {
   "cell_type": "code",
   "execution_count": 26,
   "metadata": {},
   "outputs": [],
   "source": [
    "path = '/home/dh26/Documents/Carla/gym-carla/AutoEncoder_new.pt'\n",
    "torch.save(model.state_dict(),path)"
   ]
  },
  {
   "cell_type": "code",
   "execution_count": 27,
   "metadata": {},
   "outputs": [
    {
     "data": {
      "text/plain": [
       "<All keys matched successfully>"
      ]
     },
     "execution_count": 27,
     "metadata": {},
     "output_type": "execute_result"
    }
   ],
   "source": [
    "model.load_state_dict(torch.load(path))"
   ]
  },
  {
   "cell_type": "code",
   "execution_count": 28,
   "metadata": {},
   "outputs": [],
   "source": [
    "# correct = 0 \n",
    "# total = 0\n",
    "# with torch.no_grad():\n",
    "#     for data in testloader:\n",
    "#         images, labels = data\n",
    "#         images, labels = images.cuda(), labels.cuda()\n",
    "#         outputs = net(images)\n",
    "#         _, predicted = torch.max(outputs.data, 1)\n",
    "#         total += labels.size(0)\n",
    "#         correct +=(predicted == labels).sum().item()\n",
    "\n",
    "# print(\"Accuracy of the network on the {} test images: {}%\".format(len(testloader), 100*correct/total))\n",
    "\n",
    "dataset = [names for names in list(os.listdir(\"/home/dh26/Documents/Carla/gym-carla/Unet_images/Sunny/Semantic_array\"))]\n",
    "a = np.load(\"/home/dh26/Documents/Carla/gym-carla/Unet_images/Sunny/Semantic_array/\"+dataset[0])\n",
    "a = torch.Tensor(a)\n",
    "a = a.reshape(1,1,128,128).float()\n",
    "a.to(device)\n",
    "outputs, latent_space=model(a)"
   ]
  },
  {
   "cell_type": "code",
   "execution_count": 29,
   "metadata": {},
   "outputs": [
    {
     "name": "stdout",
     "output_type": "stream",
     "text": [
      "torch.Size([1, 13, 128, 128])\n",
      "torch.Size([1, 128, 128])\n",
      "tensor([[[1, 9, 9,  ..., 1, 1, 1],\n",
      "         [1, 9, 9,  ..., 1, 1, 1],\n",
      "         [9, 9, 9,  ..., 1, 1, 1],\n",
      "         ...,\n",
      "         [7, 7, 7,  ..., 7, 7, 7],\n",
      "         [7, 7, 7,  ..., 7, 7, 7],\n",
      "         [7, 7, 7,  ..., 7, 7, 7]]], device='cuda:0')\n"
     ]
    }
   ],
   "source": [
    "print(outputs.shape)\n",
    "im = torch.Tensor.argmax(outputs, dim=1)\n",
    "print(im.shape)\n",
    "print(im)"
   ]
  },
  {
   "cell_type": "code",
   "execution_count": 30,
   "metadata": {},
   "outputs": [],
   "source": [
    "img = im.cpu().detach()\n",
    "img = img.numpy()"
   ]
  },
  {
   "cell_type": "code",
   "execution_count": 31,
   "metadata": {},
   "outputs": [],
   "source": [
    "# plt.imshow(a)"
   ]
  },
  {
   "cell_type": "code",
   "execution_count": 32,
   "metadata": {},
   "outputs": [
    {
     "data": {
      "text/plain": [
       "<matplotlib.image.AxesImage at 0x7feddb1357b8>"
      ]
     },
     "execution_count": 32,
     "metadata": {},
     "output_type": "execute_result"
    },
    {
     "data": {
      "image/png": "[encoded data removed]",
      "text/plain": [
       "<Figure size 432x288 with 1 Axes>"
      ]
     },
     "metadata": {
      "needs_background": "light"
     },
     "output_type": "display_data"
    }
   ],
   "source": [
    "plt.imshow(a.reshape(128,128))"
   ]
  },
  {
   "cell_type": "code",
   "execution_count": 33,
   "metadata": {},
   "outputs": [
    {
     "data": {
      "text/plain": [
       "<matplotlib.image.AxesImage at 0x7feddb09ea58>"
      ]
     },
     "execution_count": 33,
     "metadata": {},
     "output_type": "execute_result"
    },
    {
     "data": {
      "image/png": "[encoded data removed]",
      "text/plain": [
       "<Figure size 432x288 with 1 Axes>"
      ]
     },
     "metadata": {
      "needs_background": "light"
     },
     "output_type": "display_data"
    }
   ],
   "source": [
    "plt.imshow(img.reshape(128,128))"
   ]
  },
  {
   "cell_type": "code",
   "execution_count": 30,
   "metadata": {},
   "outputs": [
    {
     "data": {
      "text/plain": [
       "<matplotlib.image.AxesImage at 0x7f970df496d8>"
      ]
     },
     "execution_count": 30,
     "metadata": {},
     "output_type": "execute_result"
    },
    {
     "data": {
      "image/png": "[encoded data removed]",
      "text/plain": [
       "<Figure size 432x288 with 1 Axes>"
      ]
     },
     "metadata": {
      "needs_background": "light"
     },
     "output_type": "display_data"
    }
   ],
   "source": [
    "#plt.imshow(img.reshape(128,128))"
   ]
  },
  {
   "cell_type": "code",
   "execution_count": 34,
   "metadata": {},
   "outputs": [
    {
     "data": {
      "text/plain": [
       "tensor(1.7320, device='cuda:0', grad_fn=<NllLoss2DBackward0>)"
      ]
     },
     "execution_count": 34,
     "metadata": {},
     "output_type": "execute_result"
    }
   ],
   "source": [
    "loss"
   ]
  },
  {
   "cell_type": "code",
   "execution_count": 31,
   "metadata": {},
   "outputs": [
    {
     "data": {
      "text/plain": [
       "tensor(1.7186, device='cuda:0', grad_fn=<NllLoss2DBackward0>)"
      ]
     },
     "execution_count": 31,
     "metadata": {},
     "output_type": "execute_result"
    }
   ],
   "source": [
    "# loss"
   ]
  },
  {
   "cell_type": "code",
   "execution_count": 32,
   "metadata": {},
   "outputs": [
    {
     "data": {
      "text/plain": [
       "array([[[[ 3,  3,  3, ...,  3,  3,  3],\n",
       "         [ 3,  3,  3, ...,  3,  3,  3],\n",
       "         [ 3,  3,  3, ...,  3,  3,  3],\n",
       "         ...,\n",
       "         [10, 10, 10, ..., 10, 10, 10],\n",
       "         [10, 10, 10, ..., 10, 10, 10],\n",
       "         [10, 10, 10, ..., 10, 10, 10]]]], dtype=uint8)"
      ]
     },
     "execution_count": 32,
     "metadata": {},
     "output_type": "execute_result"
    }
   ],
   "source": [
    "# a = np.load(\"/home/dh26/Documents/Carla/gym-carla/images/AE_Sem/\"+dataset[0])\n",
    "# a.reshape(1,1,128,128)\n"
   ]
  },
  {
   "cell_type": "code",
   "execution_count": 130,
   "metadata": {},
   "outputs": [],
   "source": [
    "# a = torch.Tensor(a)"
   ]
  },
  {
   "cell_type": "code",
   "execution_count": 131,
   "metadata": {},
   "outputs": [
    {
     "data": {
      "text/plain": [
       "tensor([[ 3.,  3.,  3.,  ...,  3.,  3.,  3.],\n",
       "        [ 3.,  3.,  3.,  ...,  3.,  3.,  3.],\n",
       "        [ 3.,  3.,  3.,  ...,  3.,  3.,  3.],\n",
       "        ...,\n",
       "        [10., 10., 10.,  ..., 10., 10., 10.],\n",
       "        [10., 10., 10.,  ..., 10., 10., 10.],\n",
       "        [10., 10., 10.,  ..., 10., 10., 10.]])"
      ]
     },
     "execution_count": 131,
     "metadata": {},
     "output_type": "execute_result"
    }
   ],
   "source": [
    "# a"
   ]
  },
  {
   "cell_type": "code",
   "execution_count": 134,
   "metadata": {},
   "outputs": [
    {
     "data": {
      "text/plain": [
       "tensor([[[[ 3.,  3.,  3.,  ...,  3.,  3.,  3.],\n",
       "          [ 3.,  3.,  3.,  ...,  3.,  3.,  3.],\n",
       "          [ 3.,  3.,  3.,  ...,  3.,  3.,  3.],\n",
       "          ...,\n",
       "          [10., 10., 10.,  ..., 10., 10., 10.],\n",
       "          [10., 10., 10.,  ..., 10., 10., 10.],\n",
       "          [10., 10., 10.,  ..., 10., 10., 10.]]]])"
      ]
     },
     "execution_count": 134,
     "metadata": {},
     "output_type": "execute_result"
    }
   ],
   "source": [
    "a.reshape(1,1,128,128)"
   ]
  }
 ],
 "metadata": {
  "interpreter": {
   "hash": "767d51c1340bd893661ea55ea3124f6de3c7a262a8b4abca0554b478b1e2ff90"
  },
  "kernelspec": {
   "display_name": "Python 3",
   "language": "python",
   "name": "python3"
  },
  "language_info": {
   "codemirror_mode": {
    "name": "ipython",
    "version": 3
   },
   "file_extension": ".py",
   "mimetype": "text/x-python",
   "name": "python",
   "nbconvert_exporter": "python",
   "pygments_lexer": "ipython3",
   "version": "3.6.13"
  }
 },
 "nbformat": 4,
 "nbformat_minor": 2
}
